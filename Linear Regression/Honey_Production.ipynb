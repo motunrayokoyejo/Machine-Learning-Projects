{
 "cells": [
  {
   "cell_type": "markdown",
   "metadata": {},
   "source": [
    "# Analysis on the production of honey\n",
    "\n",
    "As you may have already heard, the honeybees are in a precarious state right now. You may have seen articles about the decline of the honeybee population for various reasons. This analysis will investigate this decline and how the trends of the past predict the future for the honeybees."
   ]
  },
  {
   "cell_type": "code",
   "execution_count": 1,
   "metadata": {},
   "outputs": [],
   "source": [
    "import pandas as pd\n",
    "import matplotlib.pyplot as plt\n",
    "import numpy as np\n",
    "from sklearn import linear_model"
   ]
  },
  {
   "cell_type": "code",
   "execution_count": 2,
   "metadata": {},
   "outputs": [
    {
     "name": "stdout",
     "output_type": "stream",
     "text": [
      "<bound method NDFrame.head of     state    numcol  yieldpercol   totalprod      stocks  priceperlb  \\\n",
      "0      AL   16000.0           71   1136000.0    159000.0        0.72   \n",
      "1      AZ   55000.0           60   3300000.0   1485000.0        0.64   \n",
      "2      AR   53000.0           65   3445000.0   1688000.0        0.59   \n",
      "3      CA  450000.0           83  37350000.0  12326000.0        0.62   \n",
      "4      CO   27000.0           72   1944000.0   1594000.0        0.70   \n",
      "5      FL  230000.0           98  22540000.0   4508000.0        0.64   \n",
      "6      GA   75000.0           56   4200000.0    307000.0        0.69   \n",
      "7      HI    8000.0          118    944000.0     66000.0        0.77   \n",
      "8      ID  120000.0           50   6000000.0   2220000.0        0.65   \n",
      "9      IL    9000.0           71    639000.0    204000.0        1.19   \n",
      "10     IN    9000.0           92    828000.0    489000.0        0.85   \n",
      "11     IA   50000.0           78   3900000.0   2301000.0        0.70   \n",
      "12     KS   16000.0           46    736000.0    390000.0        0.87   \n",
      "13     KY    3000.0           50    150000.0     51000.0        1.40   \n",
      "14     LA   41000.0          111   4551000.0    865000.0        0.59   \n",
      "15     ME   10000.0           26    260000.0    117000.0        0.69   \n",
      "16     MD    7000.0           44    308000.0     92000.0        1.10   \n",
      "17     MI   80000.0           85   6800000.0   3672000.0        0.66   \n",
      "18     MN  140000.0           79  11060000.0   2765000.0        0.65   \n",
      "19     MS   18000.0           86   1548000.0    898000.0        0.58   \n",
      "20     MO   23000.0           66   1518000.0    455000.0        0.76   \n",
      "21     MT  115000.0          122  14030000.0   5472000.0        0.64   \n",
      "22     NE   64000.0           70   4480000.0   2240000.0        0.86   \n",
      "23     NV   10000.0           46    460000.0    175000.0        1.65   \n",
      "24     NJ   11000.0           49    539000.0    167000.0        0.76   \n",
      "25     NM   14000.0           55    770000.0    470000.0        0.76   \n",
      "26     NY   65000.0           80   5200000.0   2444000.0        0.70   \n",
      "27     NC    8000.0           59    472000.0    151000.0        1.38   \n",
      "28     ND  230000.0          128  29440000.0   8832000.0        0.63   \n",
      "29     OH   18000.0           78   1404000.0    702000.0        0.83   \n",
      "..    ...       ...          ...         ...         ...         ...   \n",
      "596    IN    8000.0           59    472000.0    203000.0        2.54   \n",
      "597    IA   37000.0           61   2257000.0   1196000.0        2.17   \n",
      "598    KS    6000.0           55    330000.0    125000.0        2.28   \n",
      "599    KY    5000.0           51    255000.0     41000.0        3.15   \n",
      "600    LA   41000.0           86   3526000.0    141000.0        1.83   \n",
      "601    ME    4000.0           34    136000.0     24000.0        2.39   \n",
      "602    MI   73000.0           57   4161000.0   1332000.0        2.03   \n",
      "603    MN  125000.0           67   8375000.0   1591000.0        1.92   \n",
      "604    MS   18000.0          118   2124000.0     64000.0        1.77   \n",
      "605    MO    7000.0           53    371000.0    108000.0        2.80   \n",
      "606    MT  145000.0           52   7540000.0   2413000.0        1.95   \n",
      "607    NE   43000.0           65   2795000.0   1146000.0        1.93   \n",
      "608    NJ   14000.0           33    462000.0     51000.0        1.97   \n",
      "609    NM    5000.0           52    260000.0     99000.0        3.39   \n",
      "610    NY   51000.0           51   2601000.0    988000.0        2.23   \n",
      "611    NC   13000.0           39    507000.0    106000.0        3.76   \n",
      "612    ND  480000.0           69  33120000.0   5962000.0        1.92   \n",
      "613    OH   18000.0           60   1080000.0    410000.0        2.46   \n",
      "614    OR   60000.0           32   1920000.0    845000.0        2.16   \n",
      "615    PA   16000.0           60    960000.0    269000.0        2.57   \n",
      "616    SD  260000.0           63  16380000.0   3604000.0        1.95   \n",
      "617    TN    6000.0           61    366000.0     59000.0        2.93   \n",
      "618    TX   92000.0           52   4784000.0    718000.0        2.00   \n",
      "619    UT   25000.0           38    950000.0    209000.0        1.87   \n",
      "620    VT    4000.0           60    240000.0     53000.0        2.39   \n",
      "621    VA    4000.0           41    164000.0     23000.0        3.77   \n",
      "622    WA   62000.0           41   2542000.0   1017000.0        2.38   \n",
      "623    WV    6000.0           48    288000.0     95000.0        2.91   \n",
      "624    WI   60000.0           69   4140000.0   1863000.0        2.05   \n",
      "625    WY   50000.0           51   2550000.0    459000.0        1.87   \n",
      "\n",
      "      prodvalue  year  \n",
      "0      818000.0  1998  \n",
      "1     2112000.0  1998  \n",
      "2     2033000.0  1998  \n",
      "3    23157000.0  1998  \n",
      "4     1361000.0  1998  \n",
      "5    14426000.0  1998  \n",
      "6     2898000.0  1998  \n",
      "7      727000.0  1998  \n",
      "8     3900000.0  1998  \n",
      "9      760000.0  1998  \n",
      "10     704000.0  1998  \n",
      "11    2730000.0  1998  \n",
      "12     640000.0  1998  \n",
      "13     210000.0  1998  \n",
      "14    2685000.0  1998  \n",
      "15     179000.0  1998  \n",
      "16     339000.0  1998  \n",
      "17    4488000.0  1998  \n",
      "18    7189000.0  1998  \n",
      "19     898000.0  1998  \n",
      "20    1154000.0  1998  \n",
      "21    8979000.0  1998  \n",
      "22    3853000.0  1998  \n",
      "23     759000.0  1998  \n",
      "24     410000.0  1998  \n",
      "25     585000.0  1998  \n",
      "26    3640000.0  1998  \n",
      "27     651000.0  1998  \n",
      "28   18547000.0  1998  \n",
      "29    1165000.0  1998  \n",
      "..          ...   ...  \n",
      "596   1199000.0  2012  \n",
      "597   4898000.0  2012  \n",
      "598    752000.0  2012  \n",
      "599    803000.0  2012  \n",
      "600   6453000.0  2012  \n",
      "601    325000.0  2012  \n",
      "602   8447000.0  2012  \n",
      "603  16080000.0  2012  \n",
      "604   3759000.0  2012  \n",
      "605   1039000.0  2012  \n",
      "606  14703000.0  2012  \n",
      "607   5394000.0  2012  \n",
      "608    910000.0  2012  \n",
      "609    881000.0  2012  \n",
      "610   5800000.0  2012  \n",
      "611   1906000.0  2012  \n",
      "612  63590000.0  2012  \n",
      "613   2657000.0  2012  \n",
      "614   4147000.0  2012  \n",
      "615   2467000.0  2012  \n",
      "616  31941000.0  2012  \n",
      "617   1072000.0  2012  \n",
      "618   9568000.0  2012  \n",
      "619   1777000.0  2012  \n",
      "620    574000.0  2012  \n",
      "621    618000.0  2012  \n",
      "622   6050000.0  2012  \n",
      "623    838000.0  2012  \n",
      "624   8487000.0  2012  \n",
      "625   4769000.0  2012  \n",
      "\n",
      "[626 rows x 8 columns]>\n"
     ]
    }
   ],
   "source": [
    "df = pd.read_csv(\"https://s3.amazonaws.com/codecademy-content/programs/data-science-path/linear_regression/honeyproduction.csv\")\n",
    "print(df.head)"
   ]
  },
  {
   "cell_type": "code",
   "execution_count": 20,
   "metadata": {},
   "outputs": [
    {
     "name": "stdout",
     "output_type": "stream",
     "text": [
      "    year     totalprod\n",
      "0   1998  5.105093e+06\n",
      "1   1999  4.706674e+06\n",
      "2   2000  5.106000e+06\n",
      "3   2001  4.221545e+06\n",
      "4   2002  3.892386e+06\n",
      "5   2003  4.122091e+06\n",
      "6   2004  4.456805e+06\n",
      "7   2005  4.243146e+06\n",
      "8   2006  3.761902e+06\n",
      "9   2007  3.600512e+06\n",
      "10  2008  3.974927e+06\n",
      "11  2009  3.626700e+06\n",
      "12  2010  4.382350e+06\n",
      "13  2011  3.680025e+06\n",
      "14  2012  3.522675e+06\n"
     ]
    }
   ],
   "source": [
    "prod_per_year = df.groupby('year').totalprod.mean().reset_index()\n",
    "print(prod_per_year)"
   ]
  },
  {
   "cell_type": "code",
   "execution_count": 21,
   "metadata": {},
   "outputs": [
    {
     "data": {
      "image/png": "[encoded data removed]",
      "text/plain": [
       "<Figure size 432x288 with 1 Axes>"
      ]
     },
     "metadata": {
      "needs_background": "light"
     },
     "output_type": "display_data"
    }
   ],
   "source": [
    "X = prod_per_year['year']\n",
    "X = X.values.reshape(-1, 1)\n",
    "y = prod_per_year['totalprod']\n",
    "#print(X,y)\n",
    "plt.scatter(X,y)\n",
    "plt.show()"
   ]
  },
  {
   "cell_type": "code",
   "execution_count": 28,
   "metadata": {},
   "outputs": [
    {
     "name": "stdout",
     "output_type": "stream",
     "text": [
      "-88303.18915238195\n",
      "181208083.10732982\n"
     ]
    }
   ],
   "source": [
    "regr = linear_model.LinearRegression()\n",
    "regr.fit(X,y)\n",
    "print(regr.coef_[0]) #this is the slope of the line\n",
    "print(regr.intercept_) #this is the intercept"
   ]
  },
  {
   "cell_type": "code",
   "execution_count": 33,
   "metadata": {},
   "outputs": [
    {
     "data": {
      "image/png": "[encoded data removed]",
      "text/plain": [
       "<Figure size 432x288 with 1 Axes>"
      ]
     },
     "metadata": {
      "needs_background": "light"
     },
     "output_type": "display_data"
    }
   ],
   "source": [
    "y_predict = regr.predict(X)\n",
    "plt.plot(X,y,'o')\n",
    "plt.plot(X,y_predict,'o')\n",
    "plt.show()"
   ]
  },
  {
   "cell_type": "markdown",
   "metadata": {},
   "source": [
    "According to this linear model,the production of honey has been in decline. Let’s predict what the year 2050 may look like in terms of honey production."
   ]
  },
  {
   "cell_type": "code",
   "execution_count": 36,
   "metadata": {},
   "outputs": [
    {
     "data": {
      "image/png": "[encoded data removed]",
      "text/plain": [
       "<Figure size 432x288 with 1 Axes>"
      ]
     },
     "metadata": {
      "needs_background": "light"
     },
     "output_type": "display_data"
    }
   ],
   "source": [
    "x_future = np.array(range(2013,2050))\n",
    "x_future =x_future.reshape(-1, 1)\n",
    "future_predict =regr.predict(x_future)\n",
    "plt.plot(x_future,future_predict,'o')\n",
    "plt.show()"
   ]
  },
  {
   "cell_type": "markdown",
   "metadata": {},
   "source": [
    "The above graph shows that by 2050,the production value of honey will have dropped to less than 500,000"
   ]
  },
  {
   "cell_type": "code",
   "execution_count": null,
   "metadata": {},
   "outputs": [],
   "source": []
  }
 ],
 "metadata": {
  "kernelspec": {
   "display_name": "Python 3",
   "language": "python",
   "name": "python3"
  },
  "language_info": {
   "codemirror_mode": {
    "name": "ipython",
    "version": 3
   },
   "file_extension": ".py",
   "mimetype": "text/x-python",
   "name": "python",
   "nbconvert_exporter": "python",
   "pygments_lexer": "ipython3",
   "version": "3.7.3"
  }
 },
 "nbformat": 4,
 "nbformat_minor": 2
}
